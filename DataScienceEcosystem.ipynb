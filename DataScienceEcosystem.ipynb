{
 "cells": [
  {
   "cell_type": "markdown",
   "id": "7c4d7026-5bbc-4262-bf5e-34c0a21f7b06",
   "metadata": {},
   "source": [
    "# Data Science Tools and Ecosystem"
   ]
  },
  {
   "cell_type": "markdown",
   "id": "e1b7f9ac-7069-4ad1-bccc-a3b5bb4c9c00",
   "metadata": {},
   "source": []
  },
  {
   "cell_type": "markdown",
   "id": "a40d76c0-6ae0-441c-aa19-944b20400f02",
   "metadata": {},
   "source": [
    "In this notebook, Data Science Tools and Ecosystem are summarized."
   ]
  },
  {
   "cell_type": "code",
   "execution_count": null,
   "id": "74402604-1a88-450f-b7f2-fe14e63a06af",
   "metadata": {},
   "outputs": [],
   "source": []
  },
  {
   "cell_type": "markdown",
   "id": "57258352-ccb0-42e5-880a-e1e353bf4f0b",
   "metadata": {},
   "source": [
    "**Objectives:**\n",
    "\n",
    "- List popular languages for Data Science.\n",
    "- Introduce common libraries used in Data Science.\n",
    "- Summarize key Data Science tools and environments.\n"
   ]
  },
  {
   "cell_type": "code",
   "execution_count": null,
   "id": "6a08b3a5-06d6-4fce-8ffc-fdd8db937e16",
   "metadata": {},
   "outputs": [],
   "source": []
  },
  {
   "cell_type": "markdown",
   "id": "b8ddb595-308d-4b6c-bd44-f4e581203e86",
   "metadata": {},
   "source": [
    "Some of the popular languages that Data Scientists use are:Python, SQL, R."
   ]
  },
  {
   "cell_type": "code",
   "execution_count": null,
   "id": "85af5834-a43b-4cba-a5d2-0ed1dd4adf35",
   "metadata": {},
   "outputs": [],
   "source": []
  },
  {
   "cell_type": "markdown",
   "id": "f0cccbd1-eb1e-4d87-b2e6-8b03f262fd08",
   "metadata": {},
   "source": [
    "Some of the commonly used libraries used by Data Scientists include: NumPy, Pandas, Matplotlib"
   ]
  },
  {
   "cell_type": "code",
   "execution_count": null,
   "id": "ccb30654-b697-4d83-8d6f-220d6a89230d",
   "metadata": {},
   "outputs": [],
   "source": []
  },
  {
   "cell_type": "markdown",
   "id": "6885affd-ee3c-4e24-8af6-8288062a4df6",
   "metadata": {},
   "source": [
    "| Data Science Tools |\n",
    "|--------------------|\n",
    "| Jupyter Notebook   |\n",
    "| RStudio            |\n",
    "| Python             |\n"
   ]
  },
  {
   "cell_type": "code",
   "execution_count": null,
   "id": "5759c74d-4ed5-4adc-b5b0-eb61cecb8b9c",
   "metadata": {},
   "outputs": [],
   "source": []
  },
  {
   "cell_type": "markdown",
   "id": "6b37e749-d4c2-4ade-b9ad-d811e93e3178",
   "metadata": {},
   "source": [
    "### Below are a few examples of evaluating arithmetic expressions in Python:"
   ]
  },
  {
   "cell_type": "code",
   "execution_count": null,
   "id": "2cd5d615-b9e3-4761-b7ed-b587e00579e1",
   "metadata": {},
   "outputs": [],
   "source": []
  },
  {
   "cell_type": "code",
   "execution_count": null,
   "id": "79abb978-e6c9-4693-848f-ce23a725b45c",
   "metadata": {},
   "outputs": [
    {
     "name": "stdout",
     "output_type": "stream",
     "text": [
      "17\n"
     ]
    }
   ],
   "source": [
    "# This is a simple arithmetic expression to multiply then add integers\n",
    "result = (3 * 4) + 5\n",
    "print(result)"
   ]
  },
  {
   "cell_type": "code",
   "execution_count": null,
   "id": "75c3512c-9f7a-4ac1-ac7e-f01fc37511d6",
   "metadata": {},
   "outputs": [],
   "source": []
  },
  {
   "cell_type": "code",
   "execution_count": null,
   "id": "345a7a18-fd93-416b-bf1b-735877cf64a8",
   "metadata": {},
   "outputs": [
    {
     "data": {
      "text/plain": [
       "3.3333333333333335"
      ]
     },
     "execution_count": 5,
     "metadata": {},
     "output_type": "execute_result"
    }
   ],
   "source": [
    "# This will convert 200 minutes to hours by dividing by 60\n",
    "minutes = 200\n",
    "hours = minutes / 60\n",
    "hours\n"
   ]
  },
  {
   "cell_type": "code",
   "execution_count": null,
   "id": "cf1cc271-804c-4d88-8f7f-9c7cc5b47746",
   "metadata": {},
   "outputs": [],
   "source": []
  },
  {
   "cell_type": "markdown",
   "id": "58454630-7b88-4d67-817b-b65ec07844fb",
   "metadata": {},
   "source": [
    "## Author:\n",
    "Muhammad Nauman Khan"
   ]
  },
  {
   "cell_type": "code",
   "execution_count": null,
   "id": "aa78f326-b55e-42a0-bc60-4294ad44dc47",
   "metadata": {},
   "outputs": [],
   "source": []
  }
 ],
 "metadata": {
  "kernelspec": {
   "display_name": "Python 3 (ipykernel)",
   "language": "python",
   "name": "python3"
  },
  "language_info": {
   "codemirror_mode": {
    "name": "ipython",
    "version": 3
   },
   "file_extension": ".py",
   "mimetype": "text/x-python",
   "name": "python",
   "nbconvert_exporter": "python",
   "pygments_lexer": "ipython3",
   "version": "3.11.5"
  }
 },
 "nbformat": 4,
 "nbformat_minor": 5
}
